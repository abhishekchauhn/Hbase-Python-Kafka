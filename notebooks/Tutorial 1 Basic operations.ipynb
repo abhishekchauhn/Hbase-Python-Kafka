{
 "cells": [
  {
   "cell_type": "markdown",
   "metadata": {},
   "source": [
    "# Interacting with HBase in Python (using Happybase)\n",
    "[Happybase](https://happybase.readthedocs.io/en/latest/) is a python library to interact with HBase that uses its Thrift API under the hood. [Apache Thrift](https://thrift.apache.org/) is a software framework which is used for the development of cross-language services."
   ]
  },
  {
   "cell_type": "markdown",
   "metadata": {},
   "source": [
    "## An Overview of HBase Structure\n",
    "It is important to first understand how data is stored in HBase. <br>",
    "HBase is a Column oriented database i.e. the table schema defines only column families and the records are sorted by row. <br>\n",
    "A table can have many column families and each column family can have many columns (if a restriction is not defined). <br>\n",
    "The data is then stored as key:value pairs in these columns. <br> <br>\n",
    "The following list of points summarize the above paragraph:\n",
    "1. A Table in HBase is a collection of rows\n",
    "2. A Row is a collection of Column Families\n",
    "3. A Column Family is a collection of columns and\n",
    "4. A Column stores data as key:value pairs\n",
    "\n",
    "The cell below shows such a structure:"
   ]
  },
  {
   "cell_type": "code",
   "execution_count": 1,
   "metadata": {},
   "outputs": [],
   "source": [
    "# A typical HBase structure:\n",
    "\n",
    "# |Row key| Column Family 1 | Column Family 2 |\n",
    "# |-------|-----------------|-----------------|\n",
    "# |       | col 1  | col 2  | col A  | col B  |\n",
    "# |-------|-----------------|--------|--------|\n",
    "# | row1  | alpha  | beta   | gama   | delta  |"
   ]
  },
  {
   "cell_type": "markdown",
   "metadata": {},
   "source": [
    "## Interacting in Python"
   ]
  },
  {
   "cell_type": "code",
   "execution_count": 2,
   "metadata": {},
   "outputs": [],
   "source": [
    "# check if the library is installed\n",
    "# otherwise install it (pip install happybase)\n",
    "\n",
    "import happybase"
   ]
  },
  {
   "cell_type": "code",
   "execution_count": 3,
   "metadata": {},
   "outputs": [],
   "source": [
    "# get a connection\n",
    "# start the hbase by running the script ${HBASE_HOME}/bin/start-hbase.sh\n",
    "# ensure that the thrift server is running\n",
    "# this is done using hbase-daemon.sh start thrift \n",
    "\n",
    "# Note that by default the thrift server runs at localhost:9090\n",
    "# Hence the connection can be established as follows:\n",
    "conn = happybase.Connection(host='localhost', port=9090)\n",
    "\n",
    "# or simply as\n",
    "#conn = happybase.Connection()"
   ]
  },
  {
   "cell_type": "code",
   "execution_count": 4,
   "metadata": {},
   "outputs": [
    {
     "name": "stdout",
     "output_type": "stream",
     "text": [
      "[]\n"
     ]
    }
   ],
   "source": [
    "# print all the tables present\n",
    "print(conn.tables())"
   ]
  },
  {
   "cell_type": "markdown",
   "metadata": {},
   "source": [
    "### Creating a Table"
   ]
  },
  {
   "cell_type": "code",
   "execution_count": 5,
   "metadata": {},
   "outputs": [],
   "source": [
    "# let us create a simple table named 'books' with two column famiilies named Author and Info\n",
    "# create the table only if it does not exist\n",
    "\n",
    "tables_list = conn.tables() # get the list of tables\n",
    "\n",
    "if b'books' not in tables_list:\n",
    "    conn.create_table(\n",
    "        'books',\n",
    "        {'Author': dict(max_versions=2),\n",
    "         'Info':dict(),\n",
    "        }\n",
    "    )"
   ]
  },
  {
   "cell_type": "markdown",
   "metadata": {},
   "source": [
    "### Storing data"
   ]
  },
  {
   "cell_type": "code",
   "execution_count": 6,
   "metadata": {},
   "outputs": [],
   "source": [
    "# First get an instance of the Table object\n",
    "table = conn.table('books')"
   ]
  },
  {
   "cell_type": "code",
   "execution_count": 7,
   "metadata": {},
   "outputs": [],
   "source": [
    "# Enter data using the put() method of Table object\n",
    "\n",
    "table.put(b'101', {b'Author:FirstName' : b'George',\n",
    "                   b'Author:LastName'  : b'Orwell'})\n",
    "table.put(b'101', {b'Info:Title' : b'Animal Farm',\n",
    "                   b'Info:Price' : b'100'})\n",
    "\n",
    "table.put(b'102', {b'Author:FirstName' : b'George',\n",
    "                   b'Author:LastName'  : b'Orwell'})\n",
    "table.put(b'102', {b'Info:Title' : b'1984',\n",
    "                   b'Info:Price' : b'150'})\n",
    "\n",
    "table.put(b'103', {b'Author:FirstName' : b'Albert',\n",
    "                   b'Author:LastName'  : b'Camus'})\n",
    "table.put(b'103', {b'Info:Title' : b'The Fall',\n",
    "                   b'Info:Price' : b'200'})\n",
    "\n",
    "table.put(b'104', {b'Author:FirstName' : b'Franz',\n",
    "                   b'Author:LastName'  : b'Kafka'})\n",
    "table.put(b'104', {b'Info:Title' : b'The Trial',\n",
    "                   b'Info:Price' : b'250'})"
   ]
  },
  {
   "cell_type": "markdown",
   "metadata": {},
   "source": [
    "### Reading data"
   ]
  },
  {
   "cell_type": "code",
   "execution_count": 8,
   "metadata": {},
   "outputs": [
    {
     "name": "stdout",
     "output_type": "stream",
     "text": [
      "b'101' {b'Author:FirstName': b'George', b'Author:LastName': b'Orwell', b'Info:Price': b'100', b'Info:Title': b'Animal Farm'}\n",
      "b'102' {b'Author:FirstName': b'George', b'Author:LastName': b'Orwell', b'Info:Price': b'150', b'Info:Title': b'1984'}\n",
      "b'103' {b'Author:FirstName': b'Albert', b'Author:LastName': b'Camus', b'Info:Price': b'200', b'Info:Title': b'The Fall'}\n",
      "b'104' {b'Author:FirstName': b'Franz', b'Author:LastName': b'Kafka', b'Info:Price': b'250', b'Info:Title': b'The Trial'}\n"
     ]
    }
   ],
   "source": [
    "# We can read the whole table using Table.scan() as follows\n",
    "\n",
    "for key, data in table.scan():\n",
    "    print(key,data)"
   ]
  },
  {
   "cell_type": "code",
   "execution_count": 9,
   "metadata": {},
   "outputs": [
    {
     "name": "stdout",
     "output_type": "stream",
     "text": [
      "Author : George Orwell\n"
     ]
    }
   ],
   "source": [
    "# a row can be retrived using Table.row()\n",
    "# for a given row key\n",
    "# note that the byte objects can be decoded into strins using decode(\"utf-8\")\n",
    "row = table.row(b'102')\n",
    "print(\"Author : {} {}\".format(row[b'Author:FirstName'].decode(\"utf-8\"), row[b'Author:LastName'].decode(\"utf-8\")))"
   ]
  },
  {
   "cell_type": "code",
   "execution_count": 10,
   "metadata": {},
   "outputs": [
    {
     "name": "stdout",
     "output_type": "stream",
     "text": [
      "b'101' {b'Author:FirstName': b'George', b'Author:LastName': b'Orwell', b'Info:Price': b'100', b'Info:Title': b'Animal Farm'}\n",
      "b'103' {b'Author:FirstName': b'Albert', b'Author:LastName': b'Camus', b'Info:Price': b'200', b'Info:Title': b'The Fall'}\n",
      "b'104' {b'Author:FirstName': b'Franz', b'Author:LastName': b'Kafka', b'Info:Price': b'250', b'Info:Title': b'The Trial'}\n"
     ]
    }
   ],
   "source": [
    "# Note that similar to above multiple rows of data\n",
    "# can be retrieved using Table.rows()\n",
    "rows = table.rows([b'101', b'103', b'104'])\n",
    "for key, data in rows:\n",
    "    print(key, data)"
   ]
  },
  {
   "cell_type": "code",
   "execution_count": 11,
   "metadata": {},
   "outputs": [],
   "source": [
    "# get the result as a dictionary\n",
    "rows_as_dict = dict(table.rows([b'101', b'103', b'104']))"
   ]
  },
  {
   "cell_type": "code",
   "execution_count": 12,
   "metadata": {},
   "outputs": [
    {
     "data": {
      "text/plain": [
       "dict"
      ]
     },
     "execution_count": 12,
     "metadata": {},
     "output_type": "execute_result"
    }
   ],
   "source": [
    "type(rows_as_dict)"
   ]
  },
  {
   "cell_type": "code",
   "execution_count": 13,
   "metadata": {},
   "outputs": [
    {
     "name": "stdout",
     "output_type": "stream",
     "text": [
      "{b'101': {b'Author:FirstName': b'George', b'Author:LastName': b'Orwell', b'Info:Price': b'100', b'Info:Title': b'Animal Farm'}, b'103': {b'Author:FirstName': b'Albert', b'Author:LastName': b'Camus', b'Info:Price': b'200', b'Info:Title': b'The Fall'}, b'104': {b'Author:FirstName': b'Franz', b'Author:LastName': b'Kafka', b'Info:Price': b'250', b'Info:Title': b'The Trial'}}\n"
     ]
    }
   ],
   "source": [
    "print(rows_as_dict)"
   ]
  },
  {
   "cell_type": "code",
   "execution_count": 14,
   "metadata": {},
   "outputs": [
    {
     "data": {
      "text/plain": [
       "b'George'"
      ]
     },
     "execution_count": 14,
     "metadata": {},
     "output_type": "execute_result"
    }
   ],
   "source": [
    "# access individual columns\n",
    "rows_as_dict[b'101'][b'Author:FirstName']"
   ]
  },
  {
   "cell_type": "code",
   "execution_count": 15,
   "metadata": {},
   "outputs": [
    {
     "name": "stdout",
     "output_type": "stream",
     "text": [
      "b'101' {b'Author:FirstName': b'George', b'Author:LastName': b'Orwell'}\n",
      "b'104' {b'Author:FirstName': b'Franz', b'Author:LastName': b'Kafka'}\n"
     ]
    }
   ],
   "source": [
    "# we can also retrieve only the required columns rather than \n",
    "# retrieving whole rows and filtering the output\n",
    "# This improves the performance\n",
    "# This is done with columns argument. For example:\n",
    "rows = table.rows([b'101', b'104'], columns=[b'Author'])\n",
    "for key,data in rows:\n",
    "    print(key, data)\n",
    "\n",
    "# In the abvoe example note how all the columns of a column family can be retrieved"
   ]
  },
  {
   "cell_type": "code",
   "execution_count": null,
   "metadata": {},
   "outputs": [],
   "source": []
  },
  {
   "cell_type": "code",
   "execution_count": null,
   "metadata": {},
   "outputs": [],
   "source": []
  }
 ],
 "metadata": {
  "kernelspec": {
   "display_name": "Python 3",
   "language": "python",
   "name": "python3"
  },
  "language_info": {
   "codemirror_mode": {
    "name": "ipython",
    "version": 3
   },
   "file_extension": ".py",
   "mimetype": "text/x-python",
   "name": "python",
   "nbconvert_exporter": "python",
   "pygments_lexer": "ipython3",
   "version": "3.7.1"
  }
 },
 "nbformat": 4,
 "nbformat_minor": 2
}
